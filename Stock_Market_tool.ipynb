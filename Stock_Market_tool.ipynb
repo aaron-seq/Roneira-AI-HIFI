{
 "cells": [
  {
   "cell_type": "markdown",
   "metadata": {},
   "source": [
    "# Stock Market Price Prediction and Analysis\n",
    "\n",
    "**Objective:** This notebook serves as a development and testing ground for the stock price prediction model. We use historical stock data from Yahoo Finance to train a simple Linear Regression model."
   ]
  },
  {
   "cell_type": "markdown",
   "metadata": {},
   "source": [
    "### Step 1: Import Necessary Libraries"
   ]
  },
  {
   "cell_type": "code",
   "execution_count": null,
   "metadata": {},
   "outputs": [],
   "source": [
    "import numpy as np\n",
    "import pandas as pd\n",
    "import yfinance as yf\n",
    "from sklearn.model_selection import train_test_split\n",
    "from sklearn.linear_model import LinearRegression\n",
    "from sklearn.metrics import mean_squared_error, r2_score\n",
    "import matplotlib.pyplot as plt\n",
    "import seaborn as sns\n",
    "\n",
    "# Set plot style\n",
    "sns.set(style=\"whitegrid\")"
   ]
  },
  {
   "cell_type": "markdown",
   "metadata": {},
   "source": [
    "### Step 2: Fetch Historical Stock Data"
   ]
  },
  {
   "cell_type": "code",
   "execution_count": null,
   "metadata": {},
   "outputs": [],
   "source": [
    "def fetch_stock_data(ticker_symbol, start_date='2020-01-01'):\n",
    "    \"\"\"Fetches historical stock data from Yahoo Finance.\"\"\"\n",
    "    end_date = pd.to_datetime('today').strftime('%Y-%m-%d')\n",
    "    stock_df = yf.download(ticker_symbol, start=start_date, end=end_date)\n",
    "    return stock_df\n",
    "\n",
    "# Example: Fetch data for Apple (AAPL)\n",
    "ticker = 'AAPL'\n",
    "historical_data = fetch_stock_data(ticker)\n",
    "\n",
    "print(f\"Displaying first 5 rows of data for {ticker}:\")\n",
    "historical_data.head()"
   ]
  },
  {
   "cell_type": "markdown",
   "metadata": {},
   "source": [
    "### Step 3: Data Preprocessing and Feature Engineering\n",
    "\n",
    "For this simple model, we will use the 'Open' price to predict the 'Close' price."
   ]
  },
  {
   "cell_type": "code",
   "execution_count": null,
   "metadata": {},
   "outputs": [],
   "source": [
    "# Select relevant features\n",
    "processed_data = historical_data[['Open', 'Close']].copy()\n",
    "\n",
    "# Define features (X) and target (y)\n",
    "X = np.array(processed_data['Open']).reshape(-1, 1)\n",
    "y = np.array(processed_data['Close']).reshape(-1, 1)"
   ]
  },
  {
   "cell_type": "markdown",
   "metadata": {},
   "source": [
    "### Step 4: Split Data and Train the Model"
   ]
  },
  {
   "cell_type": "code",
   "execution_count": null,
   "metadata": {},
   "outputs": [],
   "source": [
    "# Split the data into training and testing sets\n",
    "X_train, X_test, y_train, y_test = train_test_split(X, y, test_size=0.2, random_state=42)\n",
    "\n",
    "# Initialize and train the Linear Regression model\n",
    "regression_model = LinearRegression()\n",
    "regression_model.fit(X_train, y_train)"
   ]
  },
  {
   "cell_type": "markdown",
   "metadata": {},
   "source": [
    "### Step 5: Evaluate the Model"
   ]
  },
  {
   "cell_type": "code",
   "execution_count": null,
   "metadata": {},
   "outputs": [],
   "source": [
    "# Make predictions on the test set\n",
    "y_pred = regression_model.predict(X_test)\n",
    "\n",
    "# Evaluate the model's performance\n",
    "mse = mean_squared_error(y_test, y_pred)\n",
    "r2 = r2_score(y_test, y_pred)\n",
    "\n",
    "print(f\"Model Performance for {ticker}:\")\n",
    "print(f\"- Mean Squared Error (MSE): {mse:.2f}\")\n",
    "print(f\"- R-squared (R2 Score): {r2:.2f}\")"
   ]
  },
  {
   "cell_type": "markdown",
   "metadata": {},
   "source": [
    "### Step 6: Visualize the Results"
   ]
  },
  {
   "cell_type": "code",
   "execution_count": null,
   "metadata": {},
   "outputs": [],
   "source": [
    "# Plotting the actual vs. predicted values\n",
    "plt.figure(figsize=(12, 6))\n",
    "plt.scatter(X_test, y_test, color='blue', label='Actual Prices')\n",
    "plt.plot(X_test, y_pred, color='red', linewidth=2, label='Predicted Prices')\n",
    "plt.title(f'Stock Price Prediction for {ticker}')\n",
    "plt.xlabel('Open Price')\n",
    "plt.ylabel('Close Price')\n",
    "plt.legend()\n",
    "plt.show()"
   ]
  },
  {
   "cell_type": "markdown",
   "metadata": {},
   "source": [
    "### Step 7: Make a Future Prediction"
   ]
  },
  {
   "cell_type": "code",
   "execution_count": null,
   "metadata": {},
   "outputs": [],
   "source": [
    "# Get the latest open price to predict the next close price\n",
    "latest_data = yf.download(ticker, period='1d')\n",
    "latest_open_price = latest_data['Open'].iloc[-1]\n",
    "\n",
    "# Predict the next closing price\n",
    "predicted_price = regression_model.predict(np.array([[latest_open_price]]))\n",
    "\n",
    "print(f\"Prediction for {ticker} tomorrow:\")\n",
    "print(f\"- Based on the last open price of ${latest_open_price:.2f}\")\n",
    "print(f\"- The predicted closing price is ${predicted_price[0][0]:.2f}\")"
   ]
  }
 ],
 "metadata": {
  "kernelspec": {
   "display_name": "Python 3",
   "language": "python",
   "name": "python3"
  },
  "language_info": {
   "codemirror_mode": {
    "name": "ipython",
    "version": 3
   },
   "file_extension": ".py",
   "mimetype": "text/x-python",
   "name": "python",
   "nbconvert_exporter": "python",
   "pygments_lexer": "ipython3",
   "version": "3.8.8"
  }
 },
 "nbformat": 4,
 "nbformat_minor": 4
}
